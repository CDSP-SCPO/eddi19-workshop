{
 "cells": [
  {
   "cell_type": "markdown",
   "metadata": {
    "colab_type": "text",
    "id": "fUupzls3kI0w"
   },
   "source": [
    "# EDDI19 - Workshop"
   ]
  },
  {
   "cell_type": "markdown",
   "metadata": {
    "colab_type": "text",
    "id": "4ZqtSc4ulIUj"
   },
   "source": [
    "## Setup"
   ]
  },
  {
   "cell_type": "markdown",
   "metadata": {},
   "source": [
    "We first need to import the modules and data we will use through this notebook."
   ]
  },
  {
   "cell_type": "code",
   "execution_count": null,
   "metadata": {},
   "outputs": [],
   "source": [
    "from IPython.display import clear_output\n",
    "\n",
    "# User friendly functions\n",
    "\n",
    "def loading(msg='Loading...'):\n",
    "    print(msg)\n",
    "\n",
    "def loaded(msg='Loaded!'):\n",
    "    clear_output()\n",
    "    print(msg)\n",
    "\n",
    "loaded()"
   ]
  },
  {
   "cell_type": "code",
   "execution_count": null,
   "metadata": {
    "colab": {},
    "colab_type": "code",
    "id": "UbQd2HnO-WcO"
   },
   "outputs": [],
   "source": [
    "# Import needed modules\n",
    "import numpy as np\n",
    "import pandas as pd\n",
    "\n",
    "from bokeh.plotting import figure, show\n",
    "from bokeh.io import output_notebook\n",
    "from bokeh.models import ColumnDataSource, Span, CDSView, \\\n",
    "RangeSlider, CustomJS, CustomJSFilter, DatetimeTickFormatter, \\\n",
    "HoverTool, PanTool, Legend, LabelSet\n",
    "from bokeh.palettes import Spectral6, Category10_7\n",
    "from bokeh.transform import factor_cmap\n",
    "from bokeh.layouts import column, widgetbox, row\n",
    "\n",
    "import calendar\n",
    "from datetime import timedelta\n",
    "from dateutil.relativedelta import relativedelta\n",
    "\n",
    "output_notebook()\n",
    "loaded('Modules imported!')"
   ]
  },
  {
   "cell_type": "code",
   "execution_count": null,
   "metadata": {},
   "outputs": [],
   "source": [
    "# Function to get a csv as a DataFrame\n",
    "def get_df(filename):\n",
    "    return pd.read_csv(filename)\n",
    "\n",
    "# Import CSVs containing the data\n",
    "interactions = get_df('data/survey_interactions_2019_light.csv')\n",
    "panelists = get_df('data/panelists_ndob.csv')\n",
    "events = get_df('data/events.csv')\n",
    "surveys = get_df('data/surveys.csv')\n",
    "\n",
    "loaded('Data imported!')"
   ]
  },
  {
   "cell_type": "markdown",
   "metadata": {},
   "source": [
    "## Data structure"
   ]
  },
  {
   "cell_type": "code",
   "execution_count": null,
   "metadata": {},
   "outputs": [],
   "source": [
    "interactions"
   ]
  },
  {
   "cell_type": "code",
   "execution_count": null,
   "metadata": {},
   "outputs": [],
   "source": [
    "panelists"
   ]
  },
  {
   "cell_type": "code",
   "execution_count": null,
   "metadata": {},
   "outputs": [],
   "source": [
    "events"
   ]
  },
  {
   "cell_type": "code",
   "execution_count": null,
   "metadata": {},
   "outputs": [],
   "source": [
    "surveys"
   ]
  },
  {
   "cell_type": "markdown",
   "metadata": {},
   "source": [
    "## Data visualization"
   ]
  },
  {
   "cell_type": "markdown",
   "metadata": {
    "colab_type": "text",
    "id": "cy7VQoGjlLex"
   },
   "source": [
    "### Panelist count by gender"
   ]
  },
  {
   "cell_type": "markdown",
   "metadata": {},
   "source": [
    "Here is a first simple chart showing the number of men and women in the ELIPSS panel."
   ]
  },
  {
   "cell_type": "code",
   "execution_count": null,
   "metadata": {
    "colab": {
     "base_uri": "https://localhost:8080/",
     "height": 417
    },
    "colab_type": "code",
    "id": "LogfHDeIkCAV",
    "outputId": "fa1e4dde-7127-403c-faf7-336f4afa5f03"
   },
   "outputs": [],
   "source": [
    "loading()\n",
    "\n",
    "s = panelists.sex.value_counts()\n",
    "\n",
    "genders = list(s.index)\n",
    "counts = list(s.values)\n",
    "\n",
    "source = ColumnDataSource(data=dict(genders=genders, counts=counts))\n",
    "\n",
    "p = figure(\n",
    "    x_range=genders,\n",
    "    title=\"Panelist count by gender\",\n",
    "    plot_height=400,\n",
    "    plot_width=400,\n",
    ")\n",
    "\n",
    "p.vbar(\n",
    "    x='genders',\n",
    "    top='counts',\n",
    "    width=0.9,\n",
    "    source=source,\n",
    "    fill_color=factor_cmap('genders', palette=Spectral6, factors=genders),\n",
    ")\n",
    "\n",
    "p.add_layout(\n",
    "    LabelSet(\n",
    "        x='genders',\n",
    "        y='counts',\n",
    "        text='counts',\n",
    "        level='glyph',\n",
    "        x_offset=-13.5,\n",
    "        y_offset=0,\n",
    "        source=source,\n",
    "        render_mode='canvas'\n",
    "    )\n",
    ")\n",
    "\n",
    "p.xgrid.grid_line_color = None\n",
    "p.y_range.start = 0\n",
    "\n",
    "loaded()\n",
    "show(p)"
   ]
  },
  {
   "cell_type": "markdown",
   "metadata": {
    "colab_type": "text",
    "id": "FJV9csaL-s6s"
   },
   "source": [
    "### Survey start date by age"
   ]
  },
  {
   "cell_type": "markdown",
   "metadata": {},
   "source": [
    "We will now see a more complex chart showing the start dates of a survey by the panelists and by age, after the survey was published."
   ]
  },
  {
   "cell_type": "code",
   "execution_count": null,
   "metadata": {
    "colab": {
     "base_uri": "https://localhost:8080/",
     "height": 17
    },
    "colab_type": "code",
    "id": "1Dji-B7k-v3h",
    "outputId": "277c38bb-7a03-434a-8d9f-169cd94a1790",
    "scrolled": false
   },
   "outputs": [],
   "source": [
    "loading()\n",
    "\n",
    "# Gets the id of events 'survey_start'\n",
    "EVENT_START_IDS = events[events['codename'].isin(['survey_start'])]['id']\n",
    "# Remove interactions that are not 'survey_start'\n",
    "iactions = interactions[interactions['event_id'].isin(EVENT_START_IDS)]\n",
    "\n",
    "# Adds birthdate of each panelists on each interaction\n",
    "iactions = iactions.merge(\n",
    "    panelists[['id', 'birthdate']],\n",
    "    left_on='panelist_id', right_on='id'\n",
    ").drop(columns=['id'])\n",
    "\n",
    "# Change column `date` and `birthdate` type\n",
    "iactions[['date', 'birthdate']] = iactions[['date', 'birthdate']].apply(pd.to_datetime)\n",
    "\n",
    "# Adds `age` column\n",
    "def get_age(date):\n",
    "    now = pd.to_datetime('now')\n",
    "    days_in_year = 366 if calendar.isleap(now.year) else 365\n",
    "    day_of_year = int(now.strftime(\"%j\"))\n",
    "    delta = relativedelta(now, date)\n",
    "    date_day_of_year = int(date.strftime(\"%j\"))\n",
    "    countdown = (date_day_of_year-day_of_year)\n",
    "    if countdown >= 0:\n",
    "        return delta.years - countdown/days_in_year + 1\n",
    "    else:\n",
    "        return delta.years - countdown/days_in_year\n",
    "iactions['age'] = iactions['birthdate'].apply(get_age)\n",
    "\n",
    "\n",
    "# Change column `start_date` type\n",
    "surveys[['start_date']] = surveys[['start_date']].apply(pd.to_datetime)\n",
    "\n",
    "# Get survey start dates\n",
    "survey_ids = iactions['survey_id'].unique()\n",
    "survey_start_dates = surveys[surveys['id'].isin(survey_ids)][['id', 'start_date']].rename(\n",
    "    columns={'id':'survey_id'}\n",
    ")\n",
    "\n",
    "iactions[['survey_id']] = iactions[['survey_id']].astype(str)\n",
    "source = ColumnDataSource(iactions)\n",
    "\n",
    "p = figure(\n",
    "    title=\"Survey start date by age\",\n",
    "    x_axis_type='datetime',\n",
    "    sizing_mode = 'scale_width'\n",
    ")\n",
    "\n",
    "cmap = factor_cmap('survey_id', palette=Category10_7, factors=[str(s) for s in survey_ids])\n",
    "\n",
    "p.circle(\n",
    "    'date',\n",
    "    'age',\n",
    "    source=source,\n",
    "    fill_alpha=0.25,\n",
    "    line_alpha=0,\n",
    "    fill_color=cmap,\n",
    "    size=6\n",
    ")\n",
    "\n",
    "transform = cmap['transform']\n",
    "cmap_dict = dict(zip(transform.factors, transform.palette))\n",
    "for index, row in survey_start_dates.iterrows():\n",
    "    survey_id = str(row['survey_id'])\n",
    "    p.add_layout(\n",
    "        Span(\n",
    "            location=row['start_date'],\n",
    "            dimension='height',\n",
    "            line_color=cmap_dict[survey_id]\n",
    "        )\n",
    "    )\n",
    "\n",
    "loaded()\n",
    "show(p)"
   ]
  },
  {
   "cell_type": "markdown",
   "metadata": {},
   "source": [
    "### Response time distribution by survey"
   ]
  },
  {
   "cell_type": "markdown",
   "metadata": {},
   "source": [
    "Here is an even more complex chart showing the response time distribution by survey.\n",
    "\n",
    "First, we need to process the data of the survey events:"
   ]
  },
  {
   "cell_type": "code",
   "execution_count": null,
   "metadata": {
    "scrolled": false
   },
   "outputs": [],
   "source": [
    "loading()\n",
    "\n",
    "def seconds_to_datetime(df):\n",
    "    return timedelta(seconds=df)\n",
    "\n",
    "def get_completion_time(df):\n",
    "    dates = list(df['date'])\n",
    "    if len(dates) == 2:\n",
    "        seconds = abs((dates[0]-dates[1]).total_seconds())\n",
    "        df['completion_time'] = seconds\n",
    "    return df\n",
    "\n",
    "def q1(x):\n",
    "    return x.quantile(0.25)\n",
    "\n",
    "def q3(x):\n",
    "    return x.quantile(0.75)\n",
    "\n",
    "\n",
    "iactions2 = interactions\n",
    "\n",
    "# Cast dates\n",
    "iactions2[['date']] = iactions2[['date']].apply(pd.to_datetime)\n",
    "\n",
    "# Get completion times\n",
    "iactions2 = iactions2.groupby(['panelist_id', 'survey_id']).apply(get_completion_time)\n",
    "\n",
    "# Remove unused columns\n",
    "iactions2 = iactions2[['completion_time', 'panelist_id', 'survey_id']].drop_duplicates()\n",
    "iactions2 = iactions2[iactions2['completion_time'].notnull()]\n",
    "\n",
    "# Calc stats\n",
    "iactions2 = iactions2.groupby(['survey_id']).agg({'completion_time': ['mean', 'min', q1, 'median', q3, 'max']})\n",
    "\n",
    "# Simplify stat column indexes\n",
    "iactions2.columns = iactions2.columns.get_level_values(1)\n",
    "\n",
    "# Merge survey information\n",
    "iactions2 = iactions2.merge(surveys[['id', 'title', 'estimated_time']], left_on='survey_id', right_on='id')\n",
    "\n",
    "# Cast stats from seconds to datetime\n",
    "stats_col = ['mean', 'min', 'q1', 'median', 'q3', 'max']\n",
    "iactions2[stats_col] = iactions2[stats_col].apply(lambda x: pd.to_timedelta(x, unit='seconds'))\n",
    "iactions2[['estimated_time']] = iactions2[['estimated_time']].apply(lambda x: pd.to_timedelta(x, unit='minutes'))\n",
    "\n",
    "loaded('Data processed!')"
   ]
  },
  {
   "cell_type": "markdown",
   "metadata": {},
   "source": [
    "Then, we can set up the complex plot using Bokeh:"
   ]
  },
  {
   "cell_type": "code",
   "execution_count": null,
   "metadata": {
    "scrolled": false
   },
   "outputs": [],
   "source": [
    "loading()\n",
    "\n",
    "df = iactions2\n",
    "df['id'] = df['id'].astype(str)\n",
    "source = ColumnDataSource(df)\n",
    "\n",
    "ids = df['id']\n",
    "rng_start = ids.min()\n",
    "rng_end = ids.max()\n",
    "rng_value = (rng_start, rng_end)\n",
    "\n",
    "p = figure(\n",
    "    title=\"Response time distribution by survey\",\n",
    "    x_axis_type='datetime',\n",
    "    y_range=[i for i in ids.values],\n",
    "    tools=['save', 'reset'],\n",
    "    sizing_mode = 'scale_width'\n",
    ")\n",
    "\n",
    "p.x_range.start = 0\n",
    "p.x_range.end = pd.to_timedelta('01:15:00').total_seconds()*1000\n",
    "p.x_range.bounds = (0, None)\n",
    "p.xaxis.formatter = DatetimeTickFormatter(minutes=['%M min'], hourmin='%H h %M min')\n",
    "p.ygrid.grid_line_color = None\n",
    "p.xgrid.grid_line_dash = 'dashed'\n",
    "\n",
    "# Spread between 25th and 50th percentiles\n",
    "q2 = p.hbar(y='id', left='q1', right='median', height=0.8, color='limegreen', alpha=0.5, source=source)\n",
    "\n",
    "# Spread between 50th and 75th percentiles\n",
    "q3 = p.hbar(y='id', left='median', right='q3', height=0.8, color='indianred', alpha=0.5, source=source)\n",
    "\n",
    "p.add_tools(HoverTool(\n",
    "    renderers=[q2, q3],\n",
    "    formatters={key: 'datetime' for key in ['mean', 'min', 'q1', 'median', 'q3', 'max', 'estimated_time']},\n",
    "    tooltips=[\n",
    "        ('Survey', '@title'),\n",
    "        ('Estimated time', '@estimated_time{%H:%M:%S}'),\n",
    "        ('Minimum', '@min{%H:%M:%S}'),\n",
    "        ('25%', '@{q1}{%H:%M:%S}'),     \n",
    "        ('Median', '@{median}{%H:%M:%S}'),\n",
    "        ('75%', '@{q3}{%H:%M:%S}'),\n",
    "        ('Maximum', '@max{%H:%M:%S}')\n",
    "    ],\n",
    "    point_policy='follow_mouse'\n",
    "))\n",
    "\n",
    "# Whiskers\n",
    "p.rect(x='min', y='id', height=0.8, width=0.01, color='gray', source=source)\n",
    "p.rect(x='max', y='id', height=0.8, width=0.01, color='gray', source=source)\n",
    "\n",
    "# Stems\n",
    "s = p.segment(x0='min', y0='id', x1='max', y1='id', color='gray', source=source)\n",
    "\n",
    "# Expected completion time\n",
    "e = p.circle(x='estimated_time', y='id', size=8, color=\"black\", source=source)\n",
    "\n",
    "# Legend\n",
    "legend = Legend(items=[\n",
    "    ('Estimated time', [e]),\n",
    "    ('25%-50%', [q2]),\n",
    "    ('50%-75%', [q3]),\n",
    "    ('min-max', [s]),\n",
    "], location=(10, 300))\n",
    "p.add_layout(legend, 'right')\n",
    "\n",
    "# Horizontal panning\n",
    "p.add_tools(\n",
    "    PanTool(dimensions=\"width\"),\n",
    ")\n",
    "\n",
    "loaded()\n",
    "show(p)"
   ]
  },
  {
   "cell_type": "code",
   "execution_count": null,
   "metadata": {},
   "outputs": [],
   "source": []
  }
 ],
 "metadata": {
  "kernelspec": {
   "display_name": "Python 3",
   "language": "python",
   "name": "python3"
  },
  "language_info": {
   "codemirror_mode": {
    "name": "ipython",
    "version": 3
   },
   "file_extension": ".py",
   "mimetype": "text/x-python",
   "name": "python",
   "nbconvert_exporter": "python",
   "pygments_lexer": "ipython3",
   "version": "3.7.3"
  }
 },
 "nbformat": 4,
 "nbformat_minor": 1
}
